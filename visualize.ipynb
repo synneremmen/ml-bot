{
 "cells": [
  {
   "cell_type": "markdown",
   "id": "ab25bca8",
   "metadata": {},
   "source": [
    "# Visualizing the logs"
   ]
  },
  {
   "cell_type": "code",
   "execution_count": null,
   "id": "e3653246",
   "metadata": {},
   "outputs": [],
   "source": [
    "import os\n",
    "import csv\n",
    "import matplotlib\n",
    "import matplotlib.pyplot as plt\n",
    "import numpy as np\n",
    "import pandas as pd\n",
    "import matplotlib.dates as mdates\n",
    "from dotenv import load_dotenv\n",
    "load_dotenv()\n",
    "\n",
    "kaffe_file = os.getenv(\"KAFFE_LOG_FILE\")\n",
    "lunsj_file = os.getenv(\"LUNSJ_LOG_FILE\")\n",
    "\n",
    "def get_data(filename):\n",
    "    with open(filename, \"r\") as file:\n",
    "        csvdata = csv.reader(file)\n",
    "        data = [row for row in csvdata]\n",
    "        cols_name = data[0]\n",
    "        rows = data[1:]\n",
    "        return {title: d for title, d in zip(cols_name, zip(*rows))}"
   ]
  },
  {
   "cell_type": "code",
   "execution_count": null,
   "id": "3ca5f7df-8b1f-405c-aef0-4266ed9e4934",
   "metadata": {},
   "outputs": [],
   "source": [
    "def plot_logs(filename):\n",
    "    data = get_data(filename)\n",
    "    \n",
    "    plt.style.use('_mpl-gallery')\n",
    "    \n",
    "    df_plot = pd.DataFrame({\n",
    "           \"timestamp\": pd.to_datetime(list(data[\"timestamp\"])),\n",
    "           \"duration\": pd.to_numeric(list(data[\"duration\"]), errors=\"coerce\")\n",
    "    }).dropna().sort_values(\"timestamp\")\n",
    "    \n",
    "    x = df_plot[\"timestamp\"]\n",
    "    y = df_plot[\"duration\"] / 60\n",
    "    \n",
    "    fig, ax = plt.subplots(figsize=(10, 4))\n",
    "    ax.plot(x, y, linewidth=2)\n",
    "    \n",
    "    ax.xaxis.set_major_formatter(mdates.DateFormatter(\"%Y-%m-%d\"))\n",
    "    fig.autofmt_xdate()\n",
    "    ax.set_xlabel(\"timestamp\")\n",
    "    ax.set_ylabel(\"duration in minutes\")\n",
    "    ax.set_title(\"Duration over time\")\n",
    "    \n",
    "    plt.show()"
   ]
  },
  {
   "cell_type": "code",
   "execution_count": null,
   "id": "2b12a8ba",
   "metadata": {},
   "outputs": [],
   "source": [
    "plot_logs(kaffe_file)"
   ]
  },
  {
   "cell_type": "code",
   "execution_count": null,
   "id": "9e839131",
   "metadata": {},
   "outputs": [],
   "source": [
    "plot_logs(lunsj_file)"
   ]
  }
 ],
 "metadata": {
  "kernelspec": {
   "display_name": "Python 3 (ipykernel)",
   "language": "python",
   "name": "python3"
  },
  "language_info": {
   "codemirror_mode": {
    "name": "ipython",
    "version": 3
   },
   "file_extension": ".py",
   "mimetype": "text/x-python",
   "name": "python",
   "nbconvert_exporter": "python",
   "pygments_lexer": "ipython3",
   "version": "3.14.0"
  }
 },
 "nbformat": 4,
 "nbformat_minor": 5
}
